{
 "cells": [
  {
   "cell_type": "markdown",
   "metadata": {},
   "source": [
    "# Excel Data Extractor - Extract & Write\n",
    "\n",
    "This function builds on ExcelDataExtractor tool by extracting specified data in extracted fields file and writing the extracted data into .xlsx files.\n",
    "\n",
    "Requirements: Run function in folder containing the source folder.\n",
    "\n",
    "Usage: ExtractExcelData_ExtractWrite()\n",
    "\n",
    "Output: Creates a folder (named \"Extracted_Data\") of excel files with extracted excel data as specified in \"_Extracted_Fields.xlsx\" files.\n",
    "\n",
    "Returm: merged_df_target_dict: dictionary of merged dataframes for each filtered df.\n",
    "\n"
   ]
  },
  {
   "cell_type": "code",
   "execution_count": null,
   "metadata": {},
   "outputs": [],
   "source": [
    "def ExtractExcelData_ExtractWrite():\n",
    "    import os\n",
    "    import pandas as pd\n",
    "    import numpy as np\n",
    "    import re\n",
    "    import pickle\n",
    "    \n",
    "    regex=re.compile('(.*)_Extracted_Fields\\.xlsx$')\n",
    "    regex2=re.compile(r'.*\\\\Extracted_Data$')\n",
    "    \n",
    "    # Retrieve source_folder and merged_df_dict\n",
    "    with open('ExtractExcelDataObjects.pkl','rb') as f:  # Python 3: open(..., 'rb')\n",
    "        source_folder, merged_df_dict = pickle.load(f)\n",
    "\n",
    "    #If Extracted_Data folder does not exist\n",
    "    if 'Extracted_Data' not in os.listdir(source_folder):\n",
    "            os.mkdir(os.path.join('.',source_folder,'Extracted_Data'))\n",
    "    \n",
    "    # Prep excel writer\n",
    "    writer = pd.ExcelWriter(os.path.join('..','Extracted_Data','Extracted Data - Master.xlsx'), \n",
    "                            engine='xlsxwriter')\n",
    "    print(os.path.join('..','Extracted_Data','Extracted Data - Master.xlsx'))\n",
    "    cwd=os.getcwd()\n",
    "    os.chdir(os.path.join(\".\",source_folder,\"Extracted_Fields\"))\n",
    "       \n",
    "    merged_df_target_dict=dict()  \n",
    "    for file in os.listdir():\n",
    "        df_required_fields=pd.read_excel(file,header=0)\n",
    "        df_required_fields.dropna(axis=0,subset=[\"Template Column Name\"],inplace=True)\n",
    "        tpl_required_fields=list(zip(df_required_fields[\"Sheet Name\"].tolist(),df_required_fields[\"Column Name\"].tolist()))\n",
    "\n",
    "        mass_dump_filename_withoutext=regex.search(file).group(1)\n",
    "        mass_dump_filename=''.join([mass_dump_filename_withoutext,'.xlsx'])\n",
    "        print(\"Extracting data from {0}\".format(mass_dump_filename))\n",
    "        \n",
    "        # Extract specified columns\n",
    "        df_target=merged_df_dict[mass_dump_filename].loc[:,tpl_required_fields]\n",
    "        df_target.reset_index(inplace=True)\n",
    "        \n",
    "#         # Create target file directory path\n",
    "#         df_target_file_filename=''.join([mass_dump_filename_withoutext,'_Extracted_Data','.xlsx'])\n",
    "#         df_target_file_directory=os.path.join(\"..\",\"Extracted_Data\",df_target_file_filename)\n",
    "    \n",
    "        # Write extracted fields into destination folder\n",
    "        sheetname=''.join([mass_dump_filename_withoutext,'_Data'])\n",
    "        merged_df_target_dict[sheetname]=df_target\n",
    "        \n",
    "        df_target.to_excel(writer, sheet_name=sheetname,index=True)  # send df to writer\n",
    "        worksheet = writer.sheets[sheetname]  # pull worksheet object\n",
    "\n",
    "        for idx, col in enumerate(df_target):  # loop through all columns\n",
    "                series = df_target[col]\n",
    "                max_len = max((\n",
    "                    series.astype(str).map(len).max(),  # len of largest item\n",
    "                    len(str(series.name))  # len of column name/header\n",
    "                    )) + 1  # adding a little extra space\n",
    "                worksheet.set_column(idx, idx, max_len)  # set column width .set_column(first_col, last_col, width, cell_format, options)\n",
    "        \n",
    "        print(\"Sheet created! - {0}\".format(sheetname))\n",
    "    \n",
    "    writer.save()\n",
    "    os.chdir(cwd)\n",
    "    os.getcwd()\n",
    "    \n",
    "    print(\"\\nData extracted!\")\n",
    "    \n",
    "    return merged_df_target_dict"
   ]
  },
  {
   "cell_type": "code",
   "execution_count": null,
   "metadata": {},
   "outputs": [],
   "source": [
    "merged_df_target_dict=ExtractExcelData_ExtractWrite()"
   ]
  }
 ],
 "metadata": {
  "kernelspec": {
   "display_name": "Python 3",
   "language": "python",
   "name": "python3"
  },
  "language_info": {
   "codemirror_mode": {
    "name": "ipython",
    "version": 3
   },
   "file_extension": ".py",
   "mimetype": "text/x-python",
   "name": "python",
   "nbconvert_exporter": "python",
   "pygments_lexer": "ipython3",
   "version": "3.7.3"
  }
 },
 "nbformat": 4,
 "nbformat_minor": 4
}
